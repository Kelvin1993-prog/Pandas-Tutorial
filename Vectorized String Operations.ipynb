{
 "cells": [
  {
   "cell_type": "markdown",
   "metadata": {},
   "source": [
    "### Vectorized String Operations"
   ]
  },
  {
   "cell_type": "markdown",
   "metadata": {},
   "source": [
    "Pandas is known for its strength in its relative ease and handling of strinf data. With this, pandas builds on comprehensive set of vectorized string operations, that is required when one is working with data munging or cleaning with respect to world real data.\n",
    "\n"
   ]
  },
  {
   "cell_type": "code",
   "execution_count": 3,
   "metadata": {},
   "outputs": [
    {
     "data": {
      "text/plain": [
       "array([1, 2, 3, 4, 5])"
      ]
     },
     "execution_count": 3,
     "metadata": {},
     "output_type": "execute_result"
    }
   ],
   "source": [
    "# reintroducing array elements for arithmetic operations\n",
    "import pandas as pd\n",
    "import numpy as np\n",
    "\n",
    "x = np.array([1,2,3,4,5])\n",
    "x"
   ]
  },
  {
   "cell_type": "markdown",
   "metadata": {},
   "source": [
    "in the above, we are not worried with the dhape of the arrays but on the operation should do due to the vectorization operations for arrays of strings, Numpy finds it lacking in the same operations as seen with the arithmetic operations. "
   ]
  },
  {
   "cell_type": "code",
   "execution_count": 7,
   "metadata": {},
   "outputs": [
    {
     "data": {
      "text/plain": [
       "['Peter', 'John', 'Mike', 'Mary']"
      ]
     },
     "execution_count": 7,
     "metadata": {},
     "output_type": "execute_result"
    }
   ],
   "source": [
    "# numpy string array \n",
    "\n",
    "data = ['peter', 'john','mike', 'mary']\n",
    "[s.capitalize() for s in data] # this is sufficeint for working with some data but will break if missing values are encountered\n"
   ]
  },
  {
   "cell_type": "code",
   "execution_count": 8,
   "metadata": {},
   "outputs": [
    {
     "ename": "AttributeError",
     "evalue": "'NoneType' object has no attribute 'capitalize'",
     "output_type": "error",
     "traceback": [
      "\u001b[1;31m---------------------------------------------------------------------------\u001b[0m",
      "\u001b[1;31mAttributeError\u001b[0m                            Traceback (most recent call last)",
      "\u001b[1;32m<ipython-input-8-89873c65c3d3>\u001b[0m in \u001b[0;36m<module>\u001b[1;34m\u001b[0m\n\u001b[0;32m      1\u001b[0m \u001b[0mdata\u001b[0m \u001b[1;33m=\u001b[0m \u001b[1;33m[\u001b[0m\u001b[1;34m'peter'\u001b[0m\u001b[1;33m,\u001b[0m \u001b[1;34m'john'\u001b[0m\u001b[1;33m,\u001b[0m\u001b[1;34m'mike'\u001b[0m\u001b[1;33m,\u001b[0m  \u001b[1;32mNone\u001b[0m\u001b[1;33m,\u001b[0m \u001b[1;34m'mary'\u001b[0m\u001b[1;33m]\u001b[0m\u001b[1;33m\u001b[0m\u001b[1;33m\u001b[0m\u001b[0m\n\u001b[1;32m----> 2\u001b[1;33m \u001b[1;33m[\u001b[0m\u001b[0ms\u001b[0m\u001b[1;33m.\u001b[0m\u001b[0mcapitalize\u001b[0m\u001b[1;33m(\u001b[0m\u001b[1;33m)\u001b[0m \u001b[1;32mfor\u001b[0m \u001b[0ms\u001b[0m \u001b[1;32min\u001b[0m \u001b[0mdata\u001b[0m\u001b[1;33m]\u001b[0m\u001b[1;33m\u001b[0m\u001b[1;33m\u001b[0m\u001b[0m\n\u001b[0m",
      "\u001b[1;32m<ipython-input-8-89873c65c3d3>\u001b[0m in \u001b[0;36m<listcomp>\u001b[1;34m(.0)\u001b[0m\n\u001b[0;32m      1\u001b[0m \u001b[0mdata\u001b[0m \u001b[1;33m=\u001b[0m \u001b[1;33m[\u001b[0m\u001b[1;34m'peter'\u001b[0m\u001b[1;33m,\u001b[0m \u001b[1;34m'john'\u001b[0m\u001b[1;33m,\u001b[0m\u001b[1;34m'mike'\u001b[0m\u001b[1;33m,\u001b[0m  \u001b[1;32mNone\u001b[0m\u001b[1;33m,\u001b[0m \u001b[1;34m'mary'\u001b[0m\u001b[1;33m]\u001b[0m\u001b[1;33m\u001b[0m\u001b[1;33m\u001b[0m\u001b[0m\n\u001b[1;32m----> 2\u001b[1;33m \u001b[1;33m[\u001b[0m\u001b[0ms\u001b[0m\u001b[1;33m.\u001b[0m\u001b[0mcapitalize\u001b[0m\u001b[1;33m(\u001b[0m\u001b[1;33m)\u001b[0m \u001b[1;32mfor\u001b[0m \u001b[0ms\u001b[0m \u001b[1;32min\u001b[0m \u001b[0mdata\u001b[0m\u001b[1;33m]\u001b[0m\u001b[1;33m\u001b[0m\u001b[1;33m\u001b[0m\u001b[0m\n\u001b[0m",
      "\u001b[1;31mAttributeError\u001b[0m: 'NoneType' object has no attribute 'capitalize'"
     ]
    }
   ],
   "source": [
    "data = ['peter', 'john','mike',  None, 'mary']\n",
    "[s.capitalize() for s in data]"
   ]
  },
  {
   "cell_type": "markdown",
   "metadata": {},
   "source": [
    "Error shows an AttributeError type which is NoneType object has no attribute called capitalize. This is where pandas becomes useful because it provides features that addreses both the need for vectorizing string operations and the need of handling missing values if encountered in the Pandas Series and Index string objects."
   ]
  },
  {
   "cell_type": "code",
   "execution_count": 9,
   "metadata": {},
   "outputs": [
    {
     "data": {
      "text/plain": [
       "0    peter\n",
       "1     john\n",
       "2     mike\n",
       "3     None\n",
       "4     mary\n",
       "dtype: object"
      ]
     },
     "execution_count": 9,
     "metadata": {},
     "output_type": "execute_result"
    }
   ],
   "source": [
    "# converting the data variable above to pandas series object\n",
    "names = pd.Series(data)\n",
    "names"
   ]
  },
  {
   "cell_type": "code",
   "execution_count": 10,
   "metadata": {},
   "outputs": [
    {
     "data": {
      "text/plain": [
       "0    Peter\n",
       "1     John\n",
       "2     Mike\n",
       "3     None\n",
       "4     Mary\n",
       "dtype: object"
      ]
     },
     "execution_count": 10,
     "metadata": {},
     "output_type": "execute_result"
    }
   ],
   "source": [
    "# let us now call the feature that will handle the capitalization\n",
    "# of every single entry while skipping the None missing value\n",
    "\n",
    "names.str.capitalize()"
   ]
  },
  {
   "cell_type": "markdown",
   "metadata": {},
   "source": [
    "### Pandas String Types"
   ]
  },
  {
   "cell_type": "code",
   "execution_count": 19,
   "metadata": {},
   "outputs": [
    {
     "data": {
      "text/plain": [
       "0      Graham Chapman\n",
       "1           John Cena\n",
       "2    Micheal Scofield\n",
       "3      Idris Abubakar\n",
       "4      Adeola Michael\n",
       "5           Emeka Obi\n",
       "dtype: object"
      ]
     },
     "execution_count": 19,
     "metadata": {},
     "output_type": "execute_result"
    }
   ],
   "source": [
    "# creating a pandas series\n",
    "\n",
    "conte = pd.Series(['Graham Chapman', 'John Cena', 'Micheal Scofield', 'Idris Abubakar',\n",
    "                  'Adeola Michael', 'Emeka Obi'])\n",
    "conte"
   ]
  },
  {
   "cell_type": "markdown",
   "metadata": {},
   "source": [
    "almost all the pandas string methods is as a result of python built in string methods. some of them include:\n",
    "\n",
    "len(), lower(), capitaliza(), find() rfind(), islower(), isupper(), upper(), ljust(), rjust(), startswit(), endswith(), strip(), lstrip(), rstrip() etc"
   ]
  },
  {
   "cell_type": "code",
   "execution_count": 13,
   "metadata": {},
   "outputs": [
    {
     "data": {
      "text/plain": [
       "0      graham chapman\n",
       "1           john cena\n",
       "2    micheal scofield\n",
       "3      idris abubakar\n",
       "4      adeola michael\n",
       "5           emeka obi\n",
       "dtype: object"
      ]
     },
     "execution_count": 13,
     "metadata": {},
     "output_type": "execute_result"
    }
   ],
   "source": [
    "# let us used the pandas vectorized string lower method\n",
    "\n",
    "conte.str.lower() # the lower returns series of strings"
   ]
  },
  {
   "cell_type": "code",
   "execution_count": 14,
   "metadata": {},
   "outputs": [
    {
     "data": {
      "text/plain": [
       "0    14\n",
       "1     9\n",
       "2    16\n",
       "3    14\n",
       "4    14\n",
       "5     9\n",
       "dtype: int64"
      ]
     },
     "execution_count": 14,
     "metadata": {},
     "output_type": "execute_result"
    }
   ],
   "source": [
    "# some returns number\n",
    "\n",
    "conte.str.len() # one obvious fact here is the need to use str before the method name"
   ]
  },
  {
   "cell_type": "code",
   "execution_count": 17,
   "metadata": {},
   "outputs": [
    {
     "data": {
      "text/plain": [
       "0    False\n",
       "1    False\n",
       "2    False\n",
       "3    False\n",
       "4    False\n",
       "5     True\n",
       "dtype: bool"
      ]
     },
     "execution_count": 17,
     "metadata": {},
     "output_type": "execute_result"
    }
   ],
   "source": [
    "# somereturns boolean values\n",
    "\n",
    "conte.str.startswith('E')"
   ]
  },
  {
   "cell_type": "code",
   "execution_count": 18,
   "metadata": {},
   "outputs": [
    {
     "data": {
      "text/plain": [
       "0      [Graham, Chapman]\n",
       "1           [John, Cena]\n",
       "2    [Micheal, Scofield]\n",
       "3      [Idris, Abubakar]\n",
       "4      [Adeola, Michael]\n",
       "5           [Emeka, Obi]\n",
       "dtype: object"
      ]
     },
     "execution_count": 18,
     "metadata": {},
     "output_type": "execute_result"
    }
   ],
   "source": [
    "# others returns list or other values for each element\n",
    "\n",
    "conte.str.split()"
   ]
  },
  {
   "cell_type": "markdown",
   "metadata": {},
   "source": [
    "### Using regular Expressions in pandas"
   ]
  },
  {
   "cell_type": "markdown",
   "metadata": {},
   "source": [
    "This happens when you want to examine the content of each strings. A way of manipulating through your string type to get a desired output. It follows some of the API coventions of pythons built-in re module. some of them are\n",
    "\n",
    "match() which is equivalent to pythons re module re.match() method which reutrns a Boolean\n",
    "\n",
    "extract() equivalent to re.match() but in this case returns matched groups as strings\n",
    "\n",
    "findall() equivalent to re.findall()\n",
    "\n",
    "replace() which replaces occurences of pattern with someother string.\n",
    "\n",
    "contains() equivalent to re.search() which returns a boolean\n",
    "\n",
    "count() which counts occurences of pattern.\n",
    "\n",
    "split() equivalent to str.split() but accepts regexps\n",
    "\n",
    "rsplit() equivalent to str.rsplit() but accepts regexps"
   ]
  },
  {
   "cell_type": "code",
   "execution_count": 37,
   "metadata": {},
   "outputs": [
    {
     "data": {
      "text/html": [
       "<div>\n",
       "<style scoped>\n",
       "    .dataframe tbody tr th:only-of-type {\n",
       "        vertical-align: middle;\n",
       "    }\n",
       "\n",
       "    .dataframe tbody tr th {\n",
       "        vertical-align: top;\n",
       "    }\n",
       "\n",
       "    .dataframe thead th {\n",
       "        text-align: right;\n",
       "    }\n",
       "</style>\n",
       "<table border=\"1\" class=\"dataframe\">\n",
       "  <thead>\n",
       "    <tr style=\"text-align: right;\">\n",
       "      <th></th>\n",
       "      <th>0</th>\n",
       "    </tr>\n",
       "  </thead>\n",
       "  <tbody>\n",
       "    <tr>\n",
       "      <th>0</th>\n",
       "      <td>Graham</td>\n",
       "    </tr>\n",
       "    <tr>\n",
       "      <th>1</th>\n",
       "      <td>John</td>\n",
       "    </tr>\n",
       "    <tr>\n",
       "      <th>2</th>\n",
       "      <td>Micheal</td>\n",
       "    </tr>\n",
       "    <tr>\n",
       "      <th>3</th>\n",
       "      <td>Idris</td>\n",
       "    </tr>\n",
       "    <tr>\n",
       "      <th>4</th>\n",
       "      <td>Adeola</td>\n",
       "    </tr>\n",
       "    <tr>\n",
       "      <th>5</th>\n",
       "      <td>Emeka</td>\n",
       "    </tr>\n",
       "  </tbody>\n",
       "</table>\n",
       "</div>"
      ],
      "text/plain": [
       "         0\n",
       "0   Graham\n",
       "1     John\n",
       "2  Micheal\n",
       "3    Idris\n",
       "4   Adeola\n",
       "5    Emeka"
      ]
     },
     "execution_count": 37,
     "metadata": {},
     "output_type": "execute_result"
    }
   ],
   "source": [
    "# let us try extracting the first name from each group of characters \n",
    "\n",
    "conte.str.extract('([A-Za-z]+)')"
   ]
  },
  {
   "cell_type": "code",
   "execution_count": 43,
   "metadata": {},
   "outputs": [
    {
     "data": {
      "text/plain": [
       "0      [Graham Chapman]\n",
       "1            [John Cen]\n",
       "2    [Micheal Scofield]\n",
       "3                    []\n",
       "4                    []\n",
       "5                    []\n",
       "dtype: object"
      ]
     },
     "execution_count": 43,
     "metadata": {},
     "output_type": "execute_result"
    }
   ],
   "source": [
    "# finding all names that start and end with a consonant.\n",
    "\n",
    "conte.str.findall(r'^[^AEIOU].*[^aeiou]')\n"
   ]
  },
  {
   "cell_type": "markdown",
   "metadata": {},
   "source": [
    "other methods include:\n",
    "\n",
    "get() whch index each element\n",
    "\n",
    "slice() which slices each element\n",
    "\n",
    "slice_replace() Replace slice in each element with passed value\n",
    "\n",
    "cat() Concatenate strings\n",
    "\n",
    "repeat() Repeat values\n",
    "\n",
    "normalize() Return Unicode form of string\n",
    "\n",
    "pad() Add whitespace to left, right, or both sides of strings\n",
    "\n",
    "wrap() Split long strings into lines with length less than a given width\n",
    "\n",
    "join() Join strings in each element of the Series with passed separator\n",
    "\n",
    "get_dummies() Extract dummy variables as a DataFrame"
   ]
  },
  {
   "cell_type": "code",
   "execution_count": 44,
   "metadata": {},
   "outputs": [
    {
     "data": {
      "text/plain": [
       "0    Gra\n",
       "1    Joh\n",
       "2    Mic\n",
       "3    Idr\n",
       "4    Ade\n",
       "5    Eme\n",
       "dtype: object"
      ]
     },
     "execution_count": 44,
     "metadata": {},
     "output_type": "execute_result"
    }
   ],
   "source": [
    "# vectorized item access and slicing\n",
    "# this enables us to get access from each array. \n",
    "# we can use the get() and slice() method\n",
    "\n",
    "conte.str.slice(0, 3)"
   ]
  },
  {
   "cell_type": "code",
   "execution_count": 45,
   "metadata": {},
   "outputs": [
    {
     "data": {
      "text/plain": [
       "0    Gra\n",
       "1    Joh\n",
       "2    Mic\n",
       "3    Idr\n",
       "4    Ade\n",
       "5    Eme\n",
       "dtype: object"
      ]
     },
     "execution_count": 45,
     "metadata": {},
     "output_type": "execute_result"
    }
   ],
   "source": [
    "# this is also equivalent to the above operation\n",
    "\n",
    "conte.str[0:3]"
   ]
  },
  {
   "cell_type": "code",
   "execution_count": 66,
   "metadata": {},
   "outputs": [
    {
     "data": {
      "text/plain": [
       "0    h\n",
       "1    n\n",
       "2    h\n",
       "3    i\n",
       "4    o\n",
       "5    k\n",
       "dtype: object"
      ]
     },
     "execution_count": 66,
     "metadata": {},
     "output_type": "execute_result"
    }
   ],
   "source": [
    "conte.str.get(3)"
   ]
  },
  {
   "cell_type": "code",
   "execution_count": 59,
   "metadata": {},
   "outputs": [
    {
     "data": {
      "text/plain": [
       "0    Gra\n",
       "1    Joh\n",
       "2    Mic\n",
       "3    Idr\n",
       "4    Ade\n",
       "5    Eme\n",
       "dtype: object"
      ]
     },
     "execution_count": 59,
     "metadata": {},
     "output_type": "execute_result"
    }
   ],
   "source": [
    "conte.str[:3]"
   ]
  },
  {
   "cell_type": "code",
   "execution_count": 71,
   "metadata": {},
   "outputs": [
    {
     "data": {
      "text/plain": [
       "0     Chapman\n",
       "1        Cena\n",
       "2    Scofield\n",
       "3    Abubakar\n",
       "4     Michael\n",
       "5         Obi\n",
       "dtype: object"
      ]
     },
     "execution_count": 71,
     "metadata": {},
     "output_type": "execute_result"
    }
   ],
   "source": [
    "conte.str.split().str.get(-1)"
   ]
  },
  {
   "cell_type": "code",
   "execution_count": 75,
   "metadata": {},
   "outputs": [
    {
     "data": {
      "text/html": [
       "<div>\n",
       "<style scoped>\n",
       "    .dataframe tbody tr th:only-of-type {\n",
       "        vertical-align: middle;\n",
       "    }\n",
       "\n",
       "    .dataframe tbody tr th {\n",
       "        vertical-align: top;\n",
       "    }\n",
       "\n",
       "    .dataframe thead th {\n",
       "        text-align: right;\n",
       "    }\n",
       "</style>\n",
       "<table border=\"1\" class=\"dataframe\">\n",
       "  <thead>\n",
       "    <tr style=\"text-align: right;\">\n",
       "      <th></th>\n",
       "      <th>name</th>\n",
       "      <th>info</th>\n",
       "    </tr>\n",
       "  </thead>\n",
       "  <tbody>\n",
       "    <tr>\n",
       "      <th>0</th>\n",
       "      <td>Graham Chapman</td>\n",
       "      <td>B|C|A</td>\n",
       "    </tr>\n",
       "    <tr>\n",
       "      <th>1</th>\n",
       "      <td>John Cena</td>\n",
       "      <td>A|B</td>\n",
       "    </tr>\n",
       "    <tr>\n",
       "      <th>2</th>\n",
       "      <td>Micheal Scofield</td>\n",
       "      <td>A|C</td>\n",
       "    </tr>\n",
       "    <tr>\n",
       "      <th>3</th>\n",
       "      <td>Idris Abubakar</td>\n",
       "      <td>B|A</td>\n",
       "    </tr>\n",
       "    <tr>\n",
       "      <th>4</th>\n",
       "      <td>Adeola Michael</td>\n",
       "      <td>B|C</td>\n",
       "    </tr>\n",
       "    <tr>\n",
       "      <th>5</th>\n",
       "      <td>Emeka Obi</td>\n",
       "      <td>B|C|A</td>\n",
       "    </tr>\n",
       "  </tbody>\n",
       "</table>\n",
       "</div>"
      ],
      "text/plain": [
       "               name   info\n",
       "0    Graham Chapman  B|C|A\n",
       "1         John Cena    A|B\n",
       "2  Micheal Scofield    A|C\n",
       "3    Idris Abubakar    B|A\n",
       "4    Adeola Michael    B|C\n",
       "5         Emeka Obi  B|C|A"
      ]
     },
     "execution_count": 75,
     "metadata": {},
     "output_type": "execute_result"
    }
   ],
   "source": [
    "# get dummies method is useful when our data contains coded indicators\n",
    "\n",
    "full_conte = pd.DataFrame({'name': conte,\n",
    "                          'info':['B|C|A','A|B', 'A|C', 'B|A', 'B|C', 'B|C|A']})\n",
    "full_conte"
   ]
  },
  {
   "cell_type": "code",
   "execution_count": 78,
   "metadata": {},
   "outputs": [
    {
     "data": {
      "text/html": [
       "<div>\n",
       "<style scoped>\n",
       "    .dataframe tbody tr th:only-of-type {\n",
       "        vertical-align: middle;\n",
       "    }\n",
       "\n",
       "    .dataframe tbody tr th {\n",
       "        vertical-align: top;\n",
       "    }\n",
       "\n",
       "    .dataframe thead th {\n",
       "        text-align: right;\n",
       "    }\n",
       "</style>\n",
       "<table border=\"1\" class=\"dataframe\">\n",
       "  <thead>\n",
       "    <tr style=\"text-align: right;\">\n",
       "      <th></th>\n",
       "      <th>A</th>\n",
       "      <th>B</th>\n",
       "      <th>C</th>\n",
       "    </tr>\n",
       "  </thead>\n",
       "  <tbody>\n",
       "    <tr>\n",
       "      <th>0</th>\n",
       "      <td>1</td>\n",
       "      <td>1</td>\n",
       "      <td>1</td>\n",
       "    </tr>\n",
       "    <tr>\n",
       "      <th>1</th>\n",
       "      <td>1</td>\n",
       "      <td>1</td>\n",
       "      <td>0</td>\n",
       "    </tr>\n",
       "    <tr>\n",
       "      <th>2</th>\n",
       "      <td>1</td>\n",
       "      <td>0</td>\n",
       "      <td>1</td>\n",
       "    </tr>\n",
       "    <tr>\n",
       "      <th>3</th>\n",
       "      <td>1</td>\n",
       "      <td>1</td>\n",
       "      <td>0</td>\n",
       "    </tr>\n",
       "    <tr>\n",
       "      <th>4</th>\n",
       "      <td>0</td>\n",
       "      <td>1</td>\n",
       "      <td>1</td>\n",
       "    </tr>\n",
       "    <tr>\n",
       "      <th>5</th>\n",
       "      <td>1</td>\n",
       "      <td>1</td>\n",
       "      <td>1</td>\n",
       "    </tr>\n",
       "  </tbody>\n",
       "</table>\n",
       "</div>"
      ],
      "text/plain": [
       "   A  B  C\n",
       "0  1  1  1\n",
       "1  1  1  0\n",
       "2  1  0  1\n",
       "3  1  1  0\n",
       "4  0  1  1\n",
       "5  1  1  1"
      ]
     },
     "execution_count": 78,
     "metadata": {},
     "output_type": "execute_result"
    }
   ],
   "source": [
    "# the get_dummies quickly let us split out the indicator variables into a Dataframe\n",
    "\n",
    "full_conte['info'].str.get_dummies()"
   ]
  },
  {
   "cell_type": "markdown",
   "metadata": {},
   "source": [
    "### Mini Project: Recipe Database"
   ]
  },
  {
   "cell_type": "markdown",
   "metadata": {},
   "source": [
    "The vectorized string operations we saw above, becomes extremely useful when we combine them in an intuitive way in solving analytical cases in real world data.\n",
    "\n",
    "we will use an open recipe database compiled from various sources on the web. The aim it to pass the recipe data into ingredient lists, so that we can easily find recipe based on some ingrdients we have.\n",
    "\n",
    "the scripts used here can be found at  https://github.com/fictivekin/openrecipes\n",
    "\n",
    "It can be downloaded and unzipped using the following code below."
   ]
  },
  {
   "cell_type": "code",
   "execution_count": 122,
   "metadata": {},
   "outputs": [
    {
     "name": "stderr",
     "output_type": "stream",
     "text": [
      "  % Total    % Received % Xferd  Average Speed   Time    Time     Time  Current\n",
      "                                 Dload  Upload   Total   Spent    Left  Speed\n",
      "\n",
      "  0     0    0     0    0     0      0      0 --:--:-- --:--:-- --:--:--     0\n",
      "  0     0    0     0    0     0      0      0 --:--:-- --:--:-- --:--:--     0\n",
      "  0 29.3M    0 17632    0     0  17632      0  0:29:06  0:00:01  0:29:05 12261\n",
      "  0 29.3M    0  221k    0     0   110k      0  0:04:31  0:00:02  0:04:29 94112\n",
      "  2 29.3M    2  612k    0     0   204k      0  0:02:27  0:00:03  0:02:24  174k\n",
      "  3 29.3M    3 1105k    0     0   276k      0  0:01:48  0:00:04  0:01:44  249k\n",
      "  5 29.3M    5 1734k    0     0   346k      0  0:01:26  0:00:05  0:01:21  358k\n",
      "  7 29.3M    7 2261k    0     0   376k      0  0:01:19  0:00:06  0:01:13  446k\n",
      "  9 29.3M    9 2788k    0     0   398k      0  0:01:15  0:00:07  0:01:08  505k\n",
      " 10 29.3M   10 3128k    0     0   391k      0  0:01:16  0:00:08  0:01:08  507k\n",
      " 11 29.3M   11 3587k    0     0   398k      0  0:01:15  0:00:09  0:01:06  499k\n",
      " 13 29.3M   13 4011k    0     0   401k      0  0:01:14  0:00:10  0:01:04  455k\n",
      " 14 29.3M   14 4369k    0     0   397k      0  0:01:15  0:00:11  0:01:04  425k\n",
      " 15 29.3M   15 4708k    0     0   392k      0  0:01:16  0:00:12  0:01:04  388k\n",
      " 16 29.3M   16 5066k    0     0   389k      0  0:01:17  0:00:13  0:01:04  391k\n",
      " 18 29.3M   18 5473k    0     0   390k      0  0:01:16  0:00:14  0:01:02  364k\n",
      " 19 29.3M   19 5746k    0     0   383k      0  0:01:18  0:00:15  0:01:03  342k\n",
      " 20 29.3M   20 6052k    0     0   378k      0  0:01:19  0:00:16  0:01:03  337k\n",
      " 20 29.3M   20 6273k    0     0   369k      0  0:01:21  0:00:17  0:01:04  313k\n",
      " 21 29.3M   21 6562k    0     0   364k      0  0:01:22  0:00:18  0:01:04  300k\n",
      " 22 29.3M   22 6783k    0     0   357k      0  0:01:24  0:00:19  0:01:05  271k\n",
      " 23 29.3M   23 7038k    0     0   351k      0  0:01:25  0:00:20  0:01:05  261k\n",
      " 24 29.3M   24 7259k    0     0   345k      0  0:01:27  0:00:21  0:01:06  241k\n",
      " 25 29.3M   25 7548k    0     0   343k      0  0:01:27  0:00:22  0:01:05  255k\n",
      " 26 29.3M   26 7837k    0     0   340k      0  0:01:28  0:00:23  0:01:05  248k\n",
      " 26 29.3M   26 8092k    0     0   337k      0  0:01:29  0:00:24  0:01:05  261k\n",
      " 27 29.3M   27 8415k    0     0   336k      0  0:01:29  0:00:25  0:01:04  274k\n",
      " 29 29.3M   29 8806k    0     0   338k      0  0:01:28  0:00:26  0:01:02  309k\n",
      " 30 29.3M   30 9044k    0     0   323k      0  0:01:33  0:00:28  0:01:05  260k\n",
      " 30 29.3M   30 9265k    0     0   330k      0  0:01:30  0:00:28  0:01:02  293k\n",
      " 32 29.3M   32 9758k    0     0   336k      0  0:01:29  0:00:29  0:01:00  323k\n",
      " 33 29.3M   33  9.9M    0     0   340k      0  0:01:28  0:00:30  0:00:58  361k\n",
      " 35 29.3M   35 10.5M    0     0   348k      0  0:01:26  0:00:31  0:00:55  401k\n",
      " 37 29.3M   37 10.9M    0     0   349k      0  0:01:26  0:00:32  0:00:54  502k\n",
      " 38 29.3M   38 11.3M    0     0   352k      0  0:01:25  0:00:33  0:00:52  471k\n",
      " 39 29.3M   39 11.7M    0     0   353k      0  0:01:25  0:00:34  0:00:51  466k\n",
      " 41 29.3M   41 12.1M    0     0   355k      0  0:01:24  0:00:35  0:00:49  442k\n",
      " 42 29.3M   42 12.5M    0     0   356k      0  0:01:24  0:00:36  0:00:48  404k\n",
      " 44 29.3M   44 12.9M    0     0   359k      0  0:01:23  0:00:37  0:00:46  423k\n",
      " 45 29.3M   45 13.4M    0     0   362k      0  0:01:22  0:00:38  0:00:44  421k\n",
      " 47 29.3M   47 13.9M    0     0   366k      0  0:01:22  0:00:39  0:00:43  452k\n",
      " 49 29.3M   49 14.5M    0     0   372k      0  0:01:20  0:00:40  0:00:40  493k\n",
      " 52 29.3M   52 15.4M    0     0   385k      0  0:01:18  0:00:41  0:00:37  591k\n",
      " 56 29.3M   56 16.5M    0     0   402k      0  0:01:14  0:00:42  0:00:32  719k\n",
      " 58 29.3M   58 17.2M    0     0   411k      0  0:01:13  0:00:43  0:00:30  796k\n",
      " 62 29.3M   62 18.2M    0     0   424k      0  0:01:10  0:00:44  0:00:26  880k\n",
      " 65 29.3M   65 19.2M    0     0   438k      0  0:01:08  0:00:45  0:00:23  968k\n",
      " 68 29.3M   68 20.1M    0     0   448k      0  0:01:07  0:00:46  0:00:21  942k\n",
      " 71 29.3M   71 21.0M    0     0   457k      0  0:01:05  0:00:47  0:00:18  850k\n",
      " 74 29.3M   74 21.9M    0     0   468k      0  0:01:04  0:00:48  0:00:16  952k\n",
      " 76 29.3M   76 22.4M    0     0   470k      0  0:01:03  0:00:49  0:00:14  870k\n",
      " 78 29.3M   78 22.9M    0     0   470k      0  0:01:03  0:00:50  0:00:13  761k\n",
      " 79 29.3M   79 23.4M    0     0   470k      0  0:01:03  0:00:51  0:00:12  692k\n",
      " 81 29.3M   81 23.9M    0     0   470k      0  0:01:03  0:00:52  0:00:11  648k\n",
      " 83 29.3M   83 24.3M    0     0   471k      0  0:01:03  0:00:53  0:00:10  502k\n",
      " 84 29.3M   84 24.8M    0     0   471k      0  0:01:03  0:00:54  0:00:09  489k\n",
      " 86 29.3M   86 25.3M    0     0   472k      0  0:01:03  0:00:55  0:00:08  496k\n",
      " 88 29.3M   88 25.9M    0     0   473k      0  0:01:03  0:00:56  0:00:07  506k\n",
      " 90 29.3M   90 26.4M    0     0   475k      0  0:01:03  0:00:57  0:00:06  520k\n",
      " 91 29.3M   91 26.9M    0     0   476k      0  0:01:03  0:00:58  0:00:05  527k\n",
      " 93 29.3M   93 27.5M    0     0   478k      0  0:01:02  0:00:59  0:00:03  544k\n",
      " 95 29.3M   95 28.1M    0     0   480k      0  0:01:02  0:01:00  0:00:02  561k\n",
      " 97 29.3M   97 28.4M    0     0   478k      0  0:01:02  0:01:01  0:00:01  527k\n",
      " 98 29.3M   98 28.7M    0     0   475k      0  0:01:03  0:01:02  0:00:01  467k\n",
      " 99 29.3M   99 29.1M    0     0   473k      0  0:01:03  0:01:03 --:--:--  440k\n",
      "100 29.3M  100 29.3M    0     0   469k      0  0:01:04  0:01:04 --:--:--  407k\n"
     ]
    }
   ],
   "source": [
    "\n",
    "\n",
    "!curl -O https://s3.amazonaws.com/openrecipes/20170107-061401-recipeitems.json.gz\n",
    "    "
   ]
  },
  {
   "cell_type": "code",
   "execution_count": 7,
   "metadata": {},
   "outputs": [
    {
     "name": "stdout",
     "output_type": "stream",
     "text": [
      "ValueError:  Trailing data\n"
     ]
    }
   ],
   "source": [
    "# reading in the data which is in JSON format\n",
    "\n",
    "file = r'C:\\Users\\Nnabugwu kevin\\Desktop\\DataQuest\\New folder\\20170107-061401-recipeitems.json'\n",
    "try:\n",
    "    recipes = pd.read_json(file)\n",
    "except ValueError as f:\n",
    "    print(\"ValueError: \", f)\n",
    "    "
   ]
  },
  {
   "cell_type": "code",
   "execution_count": 8,
   "metadata": {},
   "outputs": [
    {
     "data": {
      "text/plain": [
       "(2, 12)"
      ]
     },
     "execution_count": 8,
     "metadata": {},
     "output_type": "execute_result"
    }
   ],
   "source": [
    "\n",
    "with open(file) as f:\n",
    "    line = f.readline()\n",
    "pd.read_json(line).shape"
   ]
  },
  {
   "cell_type": "code",
   "execution_count": 9,
   "metadata": {},
   "outputs": [],
   "source": [
    "# read the entire file into a Python array`\n",
    "with open(file, 'r', encoding=\"utf-8\") as f:\n",
    "    # Extract each line\n",
    "    data = (line.strip() for line in f)\n",
    "    # Reformat so each line is the element of a list\n",
    "    data_json = \"[{0}]\".format(','.join(data))\n",
    "# read the result as a JSON\n",
    "recipes = pd.read_json(data_json)"
   ]
  },
  {
   "cell_type": "code",
   "execution_count": 10,
   "metadata": {},
   "outputs": [
    {
     "data": {
      "text/plain": [
       "(173278, 17)"
      ]
     },
     "execution_count": 10,
     "metadata": {},
     "output_type": "execute_result"
    }
   ],
   "source": [
    "recipes.shape"
   ]
  },
  {
   "cell_type": "code",
   "execution_count": 11,
   "metadata": {},
   "outputs": [
    {
     "data": {
      "text/html": [
       "<div>\n",
       "<style scoped>\n",
       "    .dataframe tbody tr th:only-of-type {\n",
       "        vertical-align: middle;\n",
       "    }\n",
       "\n",
       "    .dataframe tbody tr th {\n",
       "        vertical-align: top;\n",
       "    }\n",
       "\n",
       "    .dataframe thead th {\n",
       "        text-align: right;\n",
       "    }\n",
       "</style>\n",
       "<table border=\"1\" class=\"dataframe\">\n",
       "  <thead>\n",
       "    <tr style=\"text-align: right;\">\n",
       "      <th></th>\n",
       "      <th>_id</th>\n",
       "      <th>name</th>\n",
       "      <th>ingredients</th>\n",
       "      <th>url</th>\n",
       "      <th>image</th>\n",
       "      <th>ts</th>\n",
       "      <th>cookTime</th>\n",
       "      <th>source</th>\n",
       "      <th>recipeYield</th>\n",
       "      <th>datePublished</th>\n",
       "      <th>prepTime</th>\n",
       "      <th>description</th>\n",
       "      <th>totalTime</th>\n",
       "      <th>creator</th>\n",
       "      <th>recipeCategory</th>\n",
       "      <th>dateModified</th>\n",
       "      <th>recipeInstructions</th>\n",
       "    </tr>\n",
       "  </thead>\n",
       "  <tbody>\n",
       "    <tr>\n",
       "      <th>0</th>\n",
       "      <td>{'$oid': '5160756b96cc62079cc2db15'}</td>\n",
       "      <td>Drop Biscuits and Sausage Gravy</td>\n",
       "      <td>Biscuits\\n3 cups All-purpose Flour\\n2 Tablespo...</td>\n",
       "      <td>http://thepioneerwoman.com/cooking/2013/03/dro...</td>\n",
       "      <td>http://static.thepioneerwoman.com/cooking/file...</td>\n",
       "      <td>{'$date': 1365276011104}</td>\n",
       "      <td>PT30M</td>\n",
       "      <td>thepioneerwoman</td>\n",
       "      <td>12</td>\n",
       "      <td>2013-03-11</td>\n",
       "      <td>PT10M</td>\n",
       "      <td>Late Saturday afternoon, after Marlboro Man ha...</td>\n",
       "      <td>NaN</td>\n",
       "      <td>NaN</td>\n",
       "      <td>NaN</td>\n",
       "      <td>NaN</td>\n",
       "      <td>NaN</td>\n",
       "    </tr>\n",
       "    <tr>\n",
       "      <th>1</th>\n",
       "      <td>{'$oid': '5160756d96cc62079cc2db16'}</td>\n",
       "      <td>Hot Roast Beef Sandwiches</td>\n",
       "      <td>12 whole Dinner Rolls Or Small Sandwich Buns (...</td>\n",
       "      <td>http://thepioneerwoman.com/cooking/2013/03/hot...</td>\n",
       "      <td>http://static.thepioneerwoman.com/cooking/file...</td>\n",
       "      <td>{'$date': 1365276013902}</td>\n",
       "      <td>PT20M</td>\n",
       "      <td>thepioneerwoman</td>\n",
       "      <td>12</td>\n",
       "      <td>2013-03-13</td>\n",
       "      <td>PT20M</td>\n",
       "      <td>When I was growing up, I participated in my Ep...</td>\n",
       "      <td>NaN</td>\n",
       "      <td>NaN</td>\n",
       "      <td>NaN</td>\n",
       "      <td>NaN</td>\n",
       "      <td>NaN</td>\n",
       "    </tr>\n",
       "  </tbody>\n",
       "</table>\n",
       "</div>"
      ],
      "text/plain": [
       "                                    _id                             name  \\\n",
       "0  {'$oid': '5160756b96cc62079cc2db15'}  Drop Biscuits and Sausage Gravy   \n",
       "1  {'$oid': '5160756d96cc62079cc2db16'}        Hot Roast Beef Sandwiches   \n",
       "\n",
       "                                         ingredients  \\\n",
       "0  Biscuits\\n3 cups All-purpose Flour\\n2 Tablespo...   \n",
       "1  12 whole Dinner Rolls Or Small Sandwich Buns (...   \n",
       "\n",
       "                                                 url  \\\n",
       "0  http://thepioneerwoman.com/cooking/2013/03/dro...   \n",
       "1  http://thepioneerwoman.com/cooking/2013/03/hot...   \n",
       "\n",
       "                                               image  \\\n",
       "0  http://static.thepioneerwoman.com/cooking/file...   \n",
       "1  http://static.thepioneerwoman.com/cooking/file...   \n",
       "\n",
       "                         ts cookTime           source recipeYield  \\\n",
       "0  {'$date': 1365276011104}    PT30M  thepioneerwoman          12   \n",
       "1  {'$date': 1365276013902}    PT20M  thepioneerwoman          12   \n",
       "\n",
       "  datePublished prepTime                                        description  \\\n",
       "0    2013-03-11    PT10M  Late Saturday afternoon, after Marlboro Man ha...   \n",
       "1    2013-03-13    PT20M  When I was growing up, I participated in my Ep...   \n",
       "\n",
       "  totalTime creator recipeCategory dateModified recipeInstructions  \n",
       "0       NaN     NaN            NaN          NaN                NaN  \n",
       "1       NaN     NaN            NaN          NaN                NaN  "
      ]
     },
     "execution_count": 11,
     "metadata": {},
     "output_type": "execute_result"
    }
   ],
   "source": [
    "recipes.head(2)"
   ]
  },
  {
   "cell_type": "code",
   "execution_count": 12,
   "metadata": {},
   "outputs": [
    {
     "data": {
      "text/plain": [
       "_id                                {'$oid': '5160756b96cc62079cc2db15'}\n",
       "name                                    Drop Biscuits and Sausage Gravy\n",
       "ingredients           Biscuits\\n3 cups All-purpose Flour\\n2 Tablespo...\n",
       "url                   http://thepioneerwoman.com/cooking/2013/03/dro...\n",
       "image                 http://static.thepioneerwoman.com/cooking/file...\n",
       "ts                                             {'$date': 1365276011104}\n",
       "cookTime                                                          PT30M\n",
       "source                                                  thepioneerwoman\n",
       "recipeYield                                                          12\n",
       "datePublished                                                2013-03-11\n",
       "prepTime                                                          PT10M\n",
       "description           Late Saturday afternoon, after Marlboro Man ha...\n",
       "totalTime                                                           NaN\n",
       "creator                                                             NaN\n",
       "recipeCategory                                                      NaN\n",
       "dateModified                                                        NaN\n",
       "recipeInstructions                                                  NaN\n",
       "Name: 0, dtype: object"
      ]
     },
     "execution_count": 12,
     "metadata": {},
     "output_type": "execute_result"
    }
   ],
   "source": [
    "recipes.iloc[0] # index location of the first row"
   ]
  },
  {
   "cell_type": "code",
   "execution_count": 13,
   "metadata": {},
   "outputs": [
    {
     "data": {
      "text/plain": [
       "count    173278.000000\n",
       "mean        244.617926\n",
       "std         146.705285\n",
       "min           0.000000\n",
       "25%         147.000000\n",
       "50%         221.000000\n",
       "75%         314.000000\n",
       "max        9067.000000\n",
       "Name: ingredients, dtype: float64"
      ]
     },
     "execution_count": 13,
     "metadata": {},
     "output_type": "execute_result"
    }
   ],
   "source": [
    "# the ingrdients list is a string format, and we are interested in this column\n",
    "# we will carefully extract this info\n",
    "\n",
    "recipes.ingredients.str.len().describe()\n",
    "\n",
    "# we can see that the ingredients list averages about 245 characters long, min of\n",
    "# 0 and max of about 10,000\n"
   ]
  },
  {
   "cell_type": "code",
   "execution_count": 15,
   "metadata": {},
   "outputs": [
    {
     "data": {
      "text/plain": [
       "'Carrot Pineapple Spice &amp; Brownie Layer Cake with Whipped Cream &amp; Cream Cheese Frosting and Marzipan Carrots'"
      ]
     },
     "execution_count": 15,
     "metadata": {},
     "output_type": "execute_result"
    }
   ],
   "source": [
    "# which recipe has the longest ingredient list?\n",
    "import numpy as np\n",
    "recipes.name[np.argmax(recipes.ingredients.str.len())]"
   ]
  },
  {
   "cell_type": "code",
   "execution_count": 16,
   "metadata": {},
   "outputs": [
    {
     "data": {
      "text/plain": [
       "233"
      ]
     },
     "execution_count": 16,
     "metadata": {},
     "output_type": "execute_result"
    }
   ],
   "source": [
    "# how many of the recipes are for breakfast\n",
    "recipes.ingredients.str.contains('[Bb]reakfast').sum()"
   ]
  },
  {
   "cell_type": "code",
   "execution_count": 17,
   "metadata": {},
   "outputs": [
    {
     "data": {
      "text/plain": [
       "10526"
      ]
     },
     "execution_count": 17,
     "metadata": {},
     "output_type": "execute_result"
    }
   ],
   "source": [
    "# how many recipes list contains cinnamon as ingredients\n",
    "\n",
    "recipes.ingredients.str.contains('[Cc]innamon').sum()"
   ]
  },
  {
   "cell_type": "code",
   "execution_count": 18,
   "metadata": {
    "scrolled": true
   },
   "outputs": [
    {
     "data": {
      "text/plain": [
       "11"
      ]
     },
     "execution_count": 18,
     "metadata": {},
     "output_type": "execute_result"
    }
   ],
   "source": [
    "# let us see if there is any mispelt cinnamon\n",
    "\n",
    "recipes.ingredients.str.contains('[Cc]inamon').sum()"
   ]
  },
  {
   "cell_type": "markdown",
   "metadata": {},
   "source": [
    "### A simple Recipe Recommender"
   ]
  },
  {
   "cell_type": "code",
   "execution_count": 19,
   "metadata": {},
   "outputs": [],
   "source": [
    "# creating an imaginary know \n",
    "spice_list = ['salt', 'pepper', 'oregano', 'sage', 'parsley',\n",
    "              'rosemary', 'tarragon', 'thyme', 'paprika', 'cumin']"
   ]
  },
  {
   "cell_type": "code",
   "execution_count": 21,
   "metadata": {},
   "outputs": [
    {
     "data": {
      "text/html": [
       "<div>\n",
       "<style scoped>\n",
       "    .dataframe tbody tr th:only-of-type {\n",
       "        vertical-align: middle;\n",
       "    }\n",
       "\n",
       "    .dataframe tbody tr th {\n",
       "        vertical-align: top;\n",
       "    }\n",
       "\n",
       "    .dataframe thead th {\n",
       "        text-align: right;\n",
       "    }\n",
       "</style>\n",
       "<table border=\"1\" class=\"dataframe\">\n",
       "  <thead>\n",
       "    <tr style=\"text-align: right;\">\n",
       "      <th></th>\n",
       "      <th>salt</th>\n",
       "      <th>pepper</th>\n",
       "      <th>oregano</th>\n",
       "      <th>sage</th>\n",
       "      <th>parsley</th>\n",
       "      <th>rosemary</th>\n",
       "      <th>tarragon</th>\n",
       "      <th>thyme</th>\n",
       "      <th>paprika</th>\n",
       "      <th>cumin</th>\n",
       "    </tr>\n",
       "  </thead>\n",
       "  <tbody>\n",
       "    <tr>\n",
       "      <th>0</th>\n",
       "      <td>False</td>\n",
       "      <td>False</td>\n",
       "      <td>False</td>\n",
       "      <td>True</td>\n",
       "      <td>False</td>\n",
       "      <td>False</td>\n",
       "      <td>False</td>\n",
       "      <td>False</td>\n",
       "      <td>False</td>\n",
       "      <td>False</td>\n",
       "    </tr>\n",
       "    <tr>\n",
       "      <th>1</th>\n",
       "      <td>False</td>\n",
       "      <td>False</td>\n",
       "      <td>False</td>\n",
       "      <td>False</td>\n",
       "      <td>False</td>\n",
       "      <td>False</td>\n",
       "      <td>False</td>\n",
       "      <td>False</td>\n",
       "      <td>False</td>\n",
       "      <td>False</td>\n",
       "    </tr>\n",
       "    <tr>\n",
       "      <th>2</th>\n",
       "      <td>True</td>\n",
       "      <td>True</td>\n",
       "      <td>False</td>\n",
       "      <td>False</td>\n",
       "      <td>False</td>\n",
       "      <td>False</td>\n",
       "      <td>False</td>\n",
       "      <td>False</td>\n",
       "      <td>False</td>\n",
       "      <td>True</td>\n",
       "    </tr>\n",
       "    <tr>\n",
       "      <th>3</th>\n",
       "      <td>False</td>\n",
       "      <td>False</td>\n",
       "      <td>False</td>\n",
       "      <td>False</td>\n",
       "      <td>False</td>\n",
       "      <td>False</td>\n",
       "      <td>False</td>\n",
       "      <td>False</td>\n",
       "      <td>False</td>\n",
       "      <td>False</td>\n",
       "    </tr>\n",
       "    <tr>\n",
       "      <th>4</th>\n",
       "      <td>False</td>\n",
       "      <td>False</td>\n",
       "      <td>False</td>\n",
       "      <td>False</td>\n",
       "      <td>False</td>\n",
       "      <td>False</td>\n",
       "      <td>False</td>\n",
       "      <td>False</td>\n",
       "      <td>False</td>\n",
       "      <td>False</td>\n",
       "    </tr>\n",
       "  </tbody>\n",
       "</table>\n",
       "</div>"
      ],
      "text/plain": [
       "    salt  pepper  oregano   sage  parsley  rosemary  tarragon  thyme  paprika  \\\n",
       "0  False   False    False   True    False     False     False  False    False   \n",
       "1  False   False    False  False    False     False     False  False    False   \n",
       "2   True    True    False  False    False     False     False  False    False   \n",
       "3  False   False    False  False    False     False     False  False    False   \n",
       "4  False   False    False  False    False     False     False  False    False   \n",
       "\n",
       "   cumin  \n",
       "0  False  \n",
       "1  False  \n",
       "2   True  \n",
       "3  False  \n",
       "4  False  "
      ]
     },
     "execution_count": 21,
     "metadata": {},
     "output_type": "execute_result"
    }
   ],
   "source": [
    "# creating a boolean datafrane consisting of this ingredients inclusion\n",
    "import pandas as pd\n",
    "import re\n",
    "\n",
    "spice_df = pd.DataFrame(dict((spice, recipes.ingredients.str.contains(\n",
    "spice, re.IGNORECASE)) for spice in spice_list))\n",
    "\n",
    "spice_df.head()"
   ]
  },
  {
   "cell_type": "code",
   "execution_count": 28,
   "metadata": {},
   "outputs": [
    {
     "data": {
      "text/plain": [
       "8"
      ]
     },
     "execution_count": 28,
     "metadata": {},
     "output_type": "execute_result"
    }
   ],
   "source": [
    "# finding a recipe that uses rosemary, tarragon and sage\n",
    "# this can be done very quickly using the query() method\n",
    "\n",
    "selection = spice_df.query('rosemary & sage & tarragon')\n",
    "len(selection)"
   ]
  },
  {
   "cell_type": "code",
   "execution_count": 30,
   "metadata": {},
   "outputs": [
    {
     "data": {
      "text/plain": [
       "68620     Roast Turkey with Mushroom Sauce Recipe\n",
       "72271                        Gordon's rustic pâté\n",
       "112987              Marica's Spaghetti Meat Sauce\n",
       "136120                       Roast chicken recipe\n",
       "142515                             Focaccia Bread\n",
       "165679                  Easy Herb Crackers Recipe\n",
       "167942    Roast Turkey with Mushroom Sauce Recipe\n",
       "171269                              Goose risotto\n",
       "Name: name, dtype: object"
      ]
     },
     "execution_count": 30,
     "metadata": {},
     "output_type": "execute_result"
    }
   ],
   "source": [
    "# we can only find 8 recipe with this combination.\n",
    "# let us get there description\n",
    "\n",
    "recipes.name[selection.index]"
   ]
  },
  {
   "cell_type": "code",
   "execution_count": 31,
   "metadata": {},
   "outputs": [
    {
     "data": {
      "text/plain": [
       "522"
      ]
     },
     "execution_count": 31,
     "metadata": {},
     "output_type": "execute_result"
    }
   ],
   "source": [
    "# finding selection of other ingredients\n",
    "selection_2 = spice_df.query('parsley & oregano & salt')\n",
    "len(selection_2)"
   ]
  },
  {
   "cell_type": "code",
   "execution_count": 37,
   "metadata": {},
   "outputs": [
    {
     "data": {
      "text/plain": [
       "33                           Cauliflower Pizza Crust Recipe\n",
       "164           Rigatoni with Spicy Calabrese-Style Pork Ragù\n",
       "421                                        Franks and Beans\n",
       "424                                                Cioppino\n",
       "1022      Grilled Pork Tenderloin with Chimichurri and S...\n",
       "                                ...                        \n",
       "167336                Bulgur with Zucchini and Herbs Recipe\n",
       "169382                               Wild Mushroom Stuffing\n",
       "171155    Spaghetti and Meatballs Recipe with Oven Roast...\n",
       "171284    Spaghetti and Meatballs Recipe with Oven Roast...\n",
       "172517                           Greek Chicken and Potatoes\n",
       "Name: name, Length: 522, dtype: object"
      ]
     },
     "execution_count": 37,
     "metadata": {},
     "output_type": "execute_result"
    }
   ],
   "source": [
    "recipes.name[selection_2.index]"
   ]
  },
  {
   "cell_type": "code",
   "execution_count": null,
   "metadata": {},
   "outputs": [],
   "source": []
  }
 ],
 "metadata": {
  "kernelspec": {
   "display_name": "Python 3",
   "language": "python",
   "name": "python3"
  },
  "language_info": {
   "codemirror_mode": {
    "name": "ipython",
    "version": 3
   },
   "file_extension": ".py",
   "mimetype": "text/x-python",
   "name": "python",
   "nbconvert_exporter": "python",
   "pygments_lexer": "ipython3",
   "version": "3.7.7"
  }
 },
 "nbformat": 4,
 "nbformat_minor": 4
}
