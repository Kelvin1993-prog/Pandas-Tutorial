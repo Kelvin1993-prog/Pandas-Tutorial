{
 "cells": [
  {
   "cell_type": "markdown",
   "metadata": {},
   "source": [
    "### Working with Time Series"
   ]
  },
  {
   "cell_type": "markdown",
   "metadata": {},
   "source": [
    "Pandas contains a wide range of tools for working with date, time features and time indexed data. \n",
    "\n",
    "Time stamps references particular moments in time( let us say June 23rd, 2011, at 4:00p.m)\n",
    "\n",
    "Time intervals and periods reference a length of time between a particular begining and end point. example the year 2011. While periods references to a specific case of time intervals in which each case of interval is of uniform length and does not overlap. example, 24 hour-long period constituting days.\n",
    "\n",
    "Time deltas or durations references an exact length of time(e.g a duration of 22.56 seconds)"
   ]
  },
  {
   "cell_type": "markdown",
   "metadata": {},
   "source": [
    "### Dates and Times in Python\n",
    "\n"
   ]
  },
  {
   "cell_type": "code",
   "execution_count": 2,
   "metadata": {},
   "outputs": [
    {
     "data": {
      "text/plain": [
       "datetime.datetime(2011, 6, 5, 0, 0)"
      ]
     },
     "execution_count": 2,
     "metadata": {},
     "output_type": "execute_result"
    }
   ],
   "source": [
    "# we can use the built in native python modules for datetime applications\n",
    "\n",
    "from datetime import datetime\n",
    "\n",
    "datetime(year=2011, month=6,day= 5)"
   ]
  },
  {
   "cell_type": "code",
   "execution_count": 3,
   "metadata": {},
   "outputs": [
    {
     "data": {
      "text/plain": [
       "datetime.datetime(2011, 7, 4, 0, 0)"
      ]
     },
     "execution_count": 3,
     "metadata": {},
     "output_type": "execute_result"
    }
   ],
   "source": [
    "# using dateutil, we can parse the variety dates from string formats\n",
    "\n",
    "from dateutil import parser\n",
    "\n",
    "date = parser.parse(\"4th of July, 2011\")\n",
    "date"
   ]
  },
  {
   "cell_type": "code",
   "execution_count": 4,
   "metadata": {},
   "outputs": [
    {
     "data": {
      "text/plain": [
       "'Monday'"
      ]
     },
     "execution_count": 4,
     "metadata": {},
     "output_type": "execute_result"
    }
   ],
   "source": [
    "# we can as well print the day of the week\n",
    "\n",
    "date.strftime('%A')"
   ]
  },
  {
   "cell_type": "markdown",
   "metadata": {},
   "source": [
    "Just as a lists of python numerical variable are suboptimal compared to Numpy-style typed numerical arrays, list of python datetime objects are suboptimal as well compared to typed arrays of encoded dates.\n"
   ]
  },
  {
   "cell_type": "markdown",
   "metadata": {},
   "source": [
    "### Typed arrays of times: Numpy's datetime64"
   ]
  },
  {
   "cell_type": "code",
   "execution_count": 12,
   "metadata": {},
   "outputs": [
    {
     "data": {
      "text/plain": [
       "array('2012-03-04', dtype='datetime64[D]')"
      ]
     },
     "execution_count": 12,
     "metadata": {},
     "output_type": "execute_result"
    }
   ],
   "source": [
    "# the datetime64 dtype encodes dates as 64-bit integers and thus allows arrays\n",
    "# of dates to be represented very compactly. The datetime64 requires a very \n",
    "# specific input format\n",
    "\n",
    "import numpy as np\n",
    "date = np.array('2012-03-04', dtype=np.datetime64)\n",
    "date"
   ]
  },
  {
   "cell_type": "code",
   "execution_count": 13,
   "metadata": {},
   "outputs": [
    {
     "data": {
      "text/plain": [
       "array(['2012-03-04', '2012-03-05', '2012-03-06', '2012-03-07',\n",
       "       '2012-03-08', '2012-03-09', '2012-03-10', '2012-03-11',\n",
       "       '2012-03-12', '2012-03-13', '2012-03-14', '2012-03-15'],\n",
       "      dtype='datetime64[D]')"
      ]
     },
     "execution_count": 13,
     "metadata": {},
     "output_type": "execute_result"
    }
   ],
   "source": [
    "# we can now easily do vectorized operations on this datetime\n",
    "\n",
    "date + np.arange(12)"
   ]
  },
  {
   "cell_type": "markdown",
   "metadata": {},
   "source": [
    "Because of the uniform type in Numpy datetime64 arrays, this type of operation can be done more quickly than when we are using pythons built in datetime objects. Also one other important feature of this numpydate time array is its features om handling complete time resolution and maximum time span."
   ]
  },
  {
   "cell_type": "code",
   "execution_count": 16,
   "metadata": {},
   "outputs": [
    {
     "data": {
      "text/plain": [
       "numpy.datetime64('2015-07-04')"
      ]
     },
     "execution_count": 16,
     "metadata": {},
     "output_type": "execute_result"
    }
   ],
   "source": [
    "np.datetime64('2015-07-04')"
   ]
  },
  {
   "cell_type": "code",
   "execution_count": 18,
   "metadata": {},
   "outputs": [
    {
     "data": {
      "text/plain": [
       "numpy.datetime64('2012-03-12T12:03')"
      ]
     },
     "execution_count": 18,
     "metadata": {},
     "output_type": "execute_result"
    }
   ],
   "source": [
    "# a minute based datetime\n",
    "\n",
    "np.datetime64('2012-03-12 12:03') # in this case, the time zon will be set automatically with respect to the local time on the computer execution code"
   ]
  },
  {
   "cell_type": "code",
   "execution_count": 24,
   "metadata": {},
   "outputs": [
    {
     "data": {
      "text/plain": [
       "numpy.datetime64('2012-03-12T12:03:32.340000000')"
      ]
     },
     "execution_count": 24,
     "metadata": {},
     "output_type": "execute_result"
    }
   ],
   "source": [
    "# let us work with nanoseconds\n",
    "\n",
    "\n",
    "np.datetime64('2012-03-12 12:03:32.34', 'ns')\n"
   ]
  },
  {
   "cell_type": "markdown",
   "metadata": {},
   "source": [
    "### Dates and Times in Pandas"
   ]
  },
  {
   "cell_type": "markdown",
   "metadata": {},
   "source": [
    "Pandas builds upon all the aforementioned tools to provide a timestamp object, which combines with ease, the use of datetime and dateutil with effecient storage and vectorized interface of numpy.datetime64.\n",
    "\n",
    "From this, pandas can construct a DatetimeIndex that can be used to index data in a series or a Dataframe."
   ]
  },
  {
   "cell_type": "code",
   "execution_count": 42,
   "metadata": {},
   "outputs": [
    {
     "data": {
      "text/plain": [
       "Timestamp('2012-07-04 00:00:00')"
      ]
     },
     "execution_count": 42,
     "metadata": {},
     "output_type": "execute_result"
    }
   ],
   "source": [
    "# we can use pandas tools parse a flexile formatted string date, and use\n",
    "# format codes to output the day of the week\n",
    "import pandas as pd\n",
    "\n",
    "date = pd.to_datetime(\"4th of July, 2012\")\n",
    "date"
   ]
  },
  {
   "cell_type": "code",
   "execution_count": 46,
   "metadata": {},
   "outputs": [
    {
     "data": {
      "text/plain": [
       "'Wednesday'"
      ]
     },
     "execution_count": 46,
     "metadata": {},
     "output_type": "execute_result"
    }
   ],
   "source": [
    "# formatting the day of the week\n",
    "\n",
    "date.strftime('%A')\n"
   ]
  },
  {
   "cell_type": "code",
   "execution_count": 48,
   "metadata": {},
   "outputs": [
    {
     "data": {
      "text/plain": [
       "DatetimeIndex(['2012-07-04', '2012-07-05', '2012-07-06', '2012-07-07',\n",
       "               '2012-07-08', '2012-07-09', '2012-07-10', '2012-07-11',\n",
       "               '2012-07-12', '2012-07-13', '2012-07-14', '2012-07-15'],\n",
       "              dtype='datetime64[ns]', freq=None)"
      ]
     },
     "execution_count": 48,
     "metadata": {},
     "output_type": "execute_result"
    }
   ],
   "source": [
    "# we can additionally add numpy vectorized operations directly here\n",
    "\n",
    "date + pd.to_timedelta(np.arange(12), 'D')"
   ]
  },
  {
   "cell_type": "markdown",
   "metadata": {},
   "source": [
    "### Pandas Time Series"
   ]
  },
  {
   "cell_type": "code",
   "execution_count": 53,
   "metadata": {},
   "outputs": [
    {
     "data": {
      "text/plain": [
       "2011-03-23    0\n",
       "2011-04-12    1\n",
       "2012-03-21    2\n",
       "2012-04-13    3\n",
       "dtype: int64"
      ]
     },
     "execution_count": 53,
     "metadata": {},
     "output_type": "execute_result"
    }
   ],
   "source": [
    "# Indexing by time comes really handy when you start indexing the data\n",
    "# by timestamps.\n",
    "\n",
    "index = pd.DatetimeIndex(['2011-03-23', '2011-04-12', '2012-03-21',\n",
    "                         '2012-04-13'])\n",
    "data = pd.Series([0,1,2,3], index=index)\n",
    "data"
   ]
  },
  {
   "cell_type": "code",
   "execution_count": 62,
   "metadata": {},
   "outputs": [
    {
     "data": {
      "text/plain": [
       "2011-03-23    0\n",
       "2011-04-12    1\n",
       "2012-03-21    2\n",
       "dtype: int64"
      ]
     },
     "execution_count": 62,
     "metadata": {},
     "output_type": "execute_result"
    }
   ],
   "source": [
    "# working with series indexing pattern\n",
    "\n",
    "data.iloc[0:3]"
   ]
  },
  {
   "cell_type": "code",
   "execution_count": 63,
   "metadata": {},
   "outputs": [
    {
     "data": {
      "text/plain": [
       "2011-03-23    0\n",
       "2011-04-12    1\n",
       "2012-03-21    2\n",
       "dtype: int64"
      ]
     },
     "execution_count": 63,
     "metadata": {},
     "output_type": "execute_result"
    }
   ],
   "source": [
    "data['2011-03-23': '2012-03-21']"
   ]
  },
  {
   "cell_type": "code",
   "execution_count": 64,
   "metadata": {},
   "outputs": [
    {
     "data": {
      "text/plain": [
       "2012-03-21    2\n",
       "2012-04-13    3\n",
       "dtype: int64"
      ]
     },
     "execution_count": 64,
     "metadata": {},
     "output_type": "execute_result"
    }
   ],
   "source": [
    "# we can still pass a single year to it\n",
    "data['2012']"
   ]
  },
  {
   "cell_type": "code",
   "execution_count": 65,
   "metadata": {},
   "outputs": [
    {
     "data": {
      "text/plain": [
       "2011-03-23    0\n",
       "2011-04-12    1\n",
       "dtype: int64"
      ]
     },
     "execution_count": 65,
     "metadata": {},
     "output_type": "execute_result"
    }
   ],
   "source": [
    "data.loc['2011']"
   ]
  },
  {
   "cell_type": "markdown",
   "metadata": {},
   "source": [
    "### Pandas Time Series Data Structures"
   ]
  },
  {
   "cell_type": "markdown",
   "metadata": {},
   "source": [
    "Pandas provides the TImeStamp type which is essentially a replacement for pythons native datetime and it is more effecient because it is built on numpy.datetim64 datatype. The asscociated index structure is DatetimeIndex\n",
    "\n",
    "Pandas provides time periods, which is a period type that specifies a fixed frequency interval based on numpy.datetime64. The asscociated index structure is PeriodIndex.\n",
    "\n",
    "for time deltas or durations, pandas provides a Timedelta type. it is more efficeint repalcement for pythons native datetime.timedelta type and it is based on numpy.timedelta64. The associated index strcutre is TimedeltaIndex.\n",
    "\n",
    "The most used of these date/time objects are the Timestamp and DatetimeIndex objects. And it is more common to use pd.to_datetime() function for it which can parse variety of formats. Passing a single date to pd.to_datetime() yeilds to a Timestamp, while passing a series of dates leds to a DatetimeIndex"
   ]
  },
  {
   "cell_type": "code",
   "execution_count": 73,
   "metadata": {},
   "outputs": [
    {
     "data": {
      "text/plain": [
       "Timestamp('2011-03-12 00:00:00')"
      ]
     },
     "execution_count": 73,
     "metadata": {},
     "output_type": "execute_result"
    }
   ],
   "source": [
    "# passing a single date to give out a timestamp datatype\n",
    "single_date = pd.to_datetime(datetime(2011,3,12))\n",
    "single_date\n"
   ]
  },
  {
   "cell_type": "code",
   "execution_count": 75,
   "metadata": {},
   "outputs": [
    {
     "data": {
      "text/plain": [
       "DatetimeIndex(['2013-07-05', '2011-05-04'], dtype='datetime64[ns]', freq=None)"
      ]
     },
     "execution_count": 75,
     "metadata": {},
     "output_type": "execute_result"
    }
   ],
   "source": [
    "# passing variety of dates to give out DatetimeIndex\n",
    "\n",
    "date_variety = pd.to_datetime(['5th of july 2013', '4th of may 2011'])\n",
    "date_variety"
   ]
  },
  {
   "cell_type": "code",
   "execution_count": 67,
   "metadata": {},
   "outputs": [
    {
     "data": {
      "text/plain": [
       "DatetimeIndex(['2011-03-23', '2011-06-04', '2013-07-05', '2011-05-04',\n",
       "               '2013-04-05'],\n",
       "              dtype='datetime64[ns]', freq=None)"
      ]
     },
     "execution_count": 67,
     "metadata": {},
     "output_type": "execute_result"
    }
   ],
   "source": [
    "dates = pd.to_datetime([datetime(2011,3,23), '4th of june 2011',\n",
    "                       '5th of july 2013', '4th of may 2011', '20130405'])\n",
    "dates"
   ]
  },
  {
   "cell_type": "code",
   "execution_count": 83,
   "metadata": {},
   "outputs": [
    {
     "data": {
      "text/plain": [
       "PeriodIndex(['2011-03-23', '2011-06-04', '2013-07-05', '2011-05-04',\n",
       "             '2013-04-05'],\n",
       "            dtype='period[D]', freq='D')"
      ]
     },
     "execution_count": 83,
     "metadata": {},
     "output_type": "execute_result"
    }
   ],
   "source": [
    "# converting DatetimeIndex to PeriodIndex with the addition of the freq code\n",
    "dates.to_period('D')"
   ]
  },
  {
   "cell_type": "code",
   "execution_count": 84,
   "metadata": {},
   "outputs": [
    {
     "data": {
      "text/plain": [
       "TimedeltaIndex(['0 days', '73 days', '835 days', '42 days', '744 days'], dtype='timedelta64[ns]', freq=None)"
      ]
     },
     "execution_count": 84,
     "metadata": {},
     "output_type": "execute_result"
    }
   ],
   "source": [
    "# a TimedeltaIndex is created when one date is subtracted from another\n",
    "\n",
    "dates - dates[0]"
   ]
  },
  {
   "cell_type": "markdown",
   "metadata": {},
   "source": [
    "### Regular Sequences"
   ]
  },
  {
   "cell_type": "markdown",
   "metadata": {},
   "source": [
    "What of if you wanted to create a range of days? pandas makes this more easy for us by using pd.date_range() function for timestamps, pd.period_range() function for periods and pd.timedelta_range() function for time deltas.\n",
    "\n",
    "just like np.arange() and range(), which has a startpoint,, endpoint and as well sequence to follow, pd.date_range() accepts a start date, end date and an optional frequency code to create a sequence of dates.\n",
    "\n",
    "Where as by default, the frequency is one day.\n",
    "\n"
   ]
  },
  {
   "cell_type": "code",
   "execution_count": 97,
   "metadata": {},
   "outputs": [
    {
     "data": {
      "text/plain": [
       "DatetimeIndex(['2011-04-19', '2011-04-21', '2011-04-23', '2011-04-25',\n",
       "               '2011-04-27', '2011-04-29'],\n",
       "              dtype='datetime64[ns]', freq='2D')"
      ]
     },
     "execution_count": 97,
     "metadata": {},
     "output_type": "execute_result"
    }
   ],
   "source": [
    "# the date_range() pandas function\n",
    "\n",
    "pd.date_range(start='2011-04-19', end='2011-04-30', freq='2D') # frequency of 2 days"
   ]
  },
  {
   "cell_type": "code",
   "execution_count": 98,
   "metadata": {},
   "outputs": [
    {
     "data": {
      "text/plain": [
       "DatetimeIndex(['2011-09-21', '2011-09-22', '2011-09-23', '2011-09-24',\n",
       "               '2011-09-25', '2011-09-26', '2011-09-27', '2011-09-28'],\n",
       "              dtype='datetime64[ns]', freq='D')"
      ]
     },
     "execution_count": 98,
     "metadata": {},
     "output_type": "execute_result"
    }
   ],
   "source": [
    "# teh date range can be specified with a start and period\n",
    "\n",
    "pd.date_range('2011-9-21', periods=8)"
   ]
  },
  {
   "cell_type": "code",
   "execution_count": 108,
   "metadata": {},
   "outputs": [
    {
     "data": {
      "text/plain": [
       "DatetimeIndex(['2011-04-19 00:00:00', '2011-04-19 01:00:00',\n",
       "               '2011-04-19 02:00:00', '2011-04-19 03:00:00',\n",
       "               '2011-04-19 04:00:00', '2011-04-19 05:00:00',\n",
       "               '2011-04-19 06:00:00', '2011-04-19 07:00:00'],\n",
       "              dtype='datetime64[ns]', freq='H')"
      ]
     },
     "execution_count": 108,
     "metadata": {},
     "output_type": "execute_result"
    }
   ],
   "source": [
    "pd.date_range(start='2011-04-19', periods=8, freq='H') # frequency of 2 hours "
   ]
  },
  {
   "cell_type": "code",
   "execution_count": 106,
   "metadata": {},
   "outputs": [
    {
     "data": {
      "text/plain": [
       "PeriodIndex(['2011-07', '2011-08', '2011-09', '2011-10', '2011-11', '2011-12'], dtype='period[M]', freq='M')"
      ]
     },
     "execution_count": 106,
     "metadata": {},
     "output_type": "execute_result"
    }
   ],
   "source": [
    "# hence to create a sequence of period or time elta values, we can use \n",
    "\n",
    "pd.period_range('2011-07', periods=6, freq='M') # iincreased periods by months"
   ]
  },
  {
   "cell_type": "code",
   "execution_count": 111,
   "metadata": {},
   "outputs": [
    {
     "data": {
      "text/plain": [
       "TimedeltaIndex(['00:00:00', '01:00:00', '02:00:00', '03:00:00', '04:00:00',\n",
       "                '05:00:00', '06:00:00', '07:00:00', '08:00:00', '09:00:00'],\n",
       "               dtype='timedelta64[ns]', freq='H')"
      ]
     },
     "execution_count": 111,
     "metadata": {},
     "output_type": "execute_result"
    }
   ],
   "source": [
    "# increase by hour using timedelta\n",
    "\n",
    "pd.timedelta_range(0, periods=10, freq='H')"
   ]
  },
  {
   "cell_type": "code",
   "execution_count": null,
   "metadata": {},
   "outputs": [],
   "source": [
    "### Frequencies and Offsets"
   ]
  }
 ],
 "metadata": {
  "kernelspec": {
   "display_name": "Python 3",
   "language": "python",
   "name": "python3"
  },
  "language_info": {
   "codemirror_mode": {
    "name": "ipython",
    "version": 3
   },
   "file_extension": ".py",
   "mimetype": "text/x-python",
   "name": "python",
   "nbconvert_exporter": "python",
   "pygments_lexer": "ipython3",
   "version": "3.7.7"
  }
 },
 "nbformat": 4,
 "nbformat_minor": 4
}
